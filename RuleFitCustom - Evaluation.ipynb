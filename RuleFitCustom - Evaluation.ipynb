{
 "cells": [
  {
   "cell_type": "markdown",
   "metadata": {
    "collapsed": true
   },
   "source": [
    "# Complexity tradeoff evaluation of standard RuleFit and our version (\"Simple Rulefit\")\n",
    "\n",
    "We weigh rules according to the number of rule conditions they have. Eg 'A > 1 & B > 1' weighs 2\n",
    "\n",
    "Parameters of the evaluation:\n",
    "\n",
    "* challenge dataset\n",
    "* no feature engineering\n",
    "* rules-only mode\n",
    "* AUC as the performance measurement\n",
    "* 5-fold cross validation\n",
    "\n",
    "Warning: This notebook can take a few hours to run, as we train folds*max_rules_params models\n",
    "\n",
    "Note: During the challenge, we did correct a bug in the original implementation (https://github.com/christophM/rulefit/issues/23)"
   ]
  },
  {
   "cell_type": "code",
   "execution_count": 2,
   "metadata": {
    "collapsed": false
   },
   "outputs": [],
   "source": [
    "# No feature engineering\n",
    "import pandas as pd\n",
    "\n",
    "df = pd.read_csv(\"heloc_dataset_v1.csv\")\n",
    "\n",
    "codes = {'Bad':1, 'Good':0}\n",
    "df['RiskPerformance'] = df['RiskPerformance'].map(codes)\n",
    "\n",
    "X, y = df.iloc[:,1:], df.iloc[:,0]\n",
    "\n",
    "features = X.columns\n",
    "X = X.as_matrix()"
   ]
  },
  {
   "cell_type": "code",
   "execution_count": 3,
   "metadata": {
    "collapsed": false
   },
   "outputs": [],
   "source": [
    "# Rules-only, no linear feature components, to evaluate only the rules' prediction power\n",
    "#\n",
    "# The original implementation did not work in rules-only mode, and we submitted a patch to\n",
    "# their repository to correct that: https://github.com/christophM/rulefit/issues/23\n",
    "# The patch has been accepted.\n",
    "model_type_param = 'r'\n",
    "\n",
    "# 5-fold cross-validation\n",
    "folds = 5\n",
    "\n",
    "# default max_rules is 2000, we sample a range of values to obtain a AUC-complexity tradeoff around 0.76 to 0.79 AUC\n",
    "max_rules_params = list(range(100, 500, 50)) + list(range(500, 1500, 100)) + list(range(1500, 2501, 200)) "
   ]
  },
  {
   "cell_type": "code",
   "execution_count": 4,
   "metadata": {
    "collapsed": false,
    "scrolled": true
   },
   "outputs": [
    {
     "name": "stderr",
     "output_type": "stream",
     "text": [
      "/usr/local/lib/python3.4/dist-packages/sklearn/linear_model/coordinate_descent.py:491: ConvergenceWarning: Objective did not converge. You might want to increase the number of iterations. Fitting data with very small alpha may cause precision problems.\n",
      "  ConvergenceWarning)\n"
     ]
    },
    {
     "name": "stdout",
     "output_type": "stream",
     "text": [
      "standard AUC 5-fold for max_rules_param 100: 0.7695491117170734, mean complexity = 68.2\n",
      "simple   AUC 5-fold for max_rules_param 100: 0.7490136428309297, mean complexity = 55.2\n"
     ]
    },
    {
     "name": "stderr",
     "output_type": "stream",
     "text": [
      "/usr/local/lib/python3.4/dist-packages/sklearn/linear_model/coordinate_descent.py:491: ConvergenceWarning: Objective did not converge. You might want to increase the number of iterations. Fitting data with very small alpha may cause precision problems.\n",
      "  ConvergenceWarning)\n"
     ]
    },
    {
     "name": "stdout",
     "output_type": "stream",
     "text": [
      "standard AUC 5-fold for max_rules_param 150: 0.7728347099998123, mean complexity = 65.4\n",
      "simple   AUC 5-fold for max_rules_param 150: 0.7589355924617819, mean complexity = 59.8\n"
     ]
    },
    {
     "name": "stderr",
     "output_type": "stream",
     "text": [
      "/usr/local/lib/python3.4/dist-packages/sklearn/linear_model/coordinate_descent.py:491: ConvergenceWarning: Objective did not converge. You might want to increase the number of iterations. Fitting data with very small alpha may cause precision problems.\n",
      "  ConvergenceWarning)\n"
     ]
    },
    {
     "name": "stdout",
     "output_type": "stream",
     "text": [
      "standard AUC 5-fold for max_rules_param 200: 0.7718926785327881, mean complexity = 103.0\n",
      "simple   AUC 5-fold for max_rules_param 200: 0.7687872857717938, mean complexity = 91.8\n"
     ]
    },
    {
     "name": "stderr",
     "output_type": "stream",
     "text": [
      "/usr/local/lib/python3.4/dist-packages/sklearn/linear_model/coordinate_descent.py:491: ConvergenceWarning: Objective did not converge. You might want to increase the number of iterations. Fitting data with very small alpha may cause precision problems.\n",
      "  ConvergenceWarning)\n"
     ]
    },
    {
     "name": "stdout",
     "output_type": "stream",
     "text": [
      "standard AUC 5-fold for max_rules_param 250: 0.7742630690812616, mean complexity = 89.6\n",
      "simple   AUC 5-fold for max_rules_param 250: 0.7700859549573964, mean complexity = 73.6\n"
     ]
    },
    {
     "name": "stderr",
     "output_type": "stream",
     "text": [
      "/usr/local/lib/python3.4/dist-packages/sklearn/linear_model/coordinate_descent.py:491: ConvergenceWarning: Objective did not converge. You might want to increase the number of iterations. Fitting data with very small alpha may cause precision problems.\n",
      "  ConvergenceWarning)\n"
     ]
    },
    {
     "name": "stdout",
     "output_type": "stream",
     "text": [
      "standard AUC 5-fold for max_rules_param 300: 0.7770796599156828, mean complexity = 97.0\n",
      "simple   AUC 5-fold for max_rules_param 300: 0.7774274475326257, mean complexity = 84.8\n"
     ]
    },
    {
     "name": "stderr",
     "output_type": "stream",
     "text": [
      "/usr/local/lib/python3.4/dist-packages/sklearn/linear_model/coordinate_descent.py:491: ConvergenceWarning: Objective did not converge. You might want to increase the number of iterations. Fitting data with very small alpha may cause precision problems.\n",
      "  ConvergenceWarning)\n",
      "/usr/local/lib/python3.4/dist-packages/sklearn/linear_model/coordinate_descent.py:491: ConvergenceWarning: Objective did not converge. You might want to increase the number of iterations. Fitting data with very small alpha may cause precision problems.\n",
      "  ConvergenceWarning)\n"
     ]
    },
    {
     "name": "stdout",
     "output_type": "stream",
     "text": [
      "standard AUC 5-fold for max_rules_param 350: 0.7817875509204464, mean complexity = 115.4\n",
      "simple   AUC 5-fold for max_rules_param 350: 0.7790562926579067, mean complexity = 76.2\n"
     ]
    },
    {
     "name": "stderr",
     "output_type": "stream",
     "text": [
      "/usr/local/lib/python3.4/dist-packages/sklearn/linear_model/coordinate_descent.py:491: ConvergenceWarning: Objective did not converge. You might want to increase the number of iterations. Fitting data with very small alpha may cause precision problems.\n",
      "  ConvergenceWarning)\n"
     ]
    },
    {
     "name": "stdout",
     "output_type": "stream",
     "text": [
      "standard AUC 5-fold for max_rules_param 400: 0.7838501936923665, mean complexity = 123.6\n",
      "simple   AUC 5-fold for max_rules_param 400: 0.7727512629401259, mean complexity = 77.8\n"
     ]
    },
    {
     "name": "stderr",
     "output_type": "stream",
     "text": [
      "/usr/local/lib/python3.4/dist-packages/sklearn/linear_model/coordinate_descent.py:491: ConvergenceWarning: Objective did not converge. You might want to increase the number of iterations. Fitting data with very small alpha may cause precision problems.\n",
      "  ConvergenceWarning)\n"
     ]
    },
    {
     "name": "stdout",
     "output_type": "stream",
     "text": [
      "standard AUC 5-fold for max_rules_param 450: 0.7833086421995643, mean complexity = 152.6\n",
      "simple   AUC 5-fold for max_rules_param 450: 0.7798658099840587, mean complexity = 88.6\n"
     ]
    },
    {
     "name": "stderr",
     "output_type": "stream",
     "text": [
      "/usr/local/lib/python3.4/dist-packages/sklearn/linear_model/coordinate_descent.py:491: ConvergenceWarning: Objective did not converge. You might want to increase the number of iterations. Fitting data with very small alpha may cause precision problems.\n",
      "  ConvergenceWarning)\n"
     ]
    },
    {
     "name": "stdout",
     "output_type": "stream",
     "text": [
      "standard AUC 5-fold for max_rules_param 500: 0.7854263835706645, mean complexity = 161.8\n",
      "simple   AUC 5-fold for max_rules_param 500: 0.7805426233066528, mean complexity = 83.0\n"
     ]
    },
    {
     "name": "stderr",
     "output_type": "stream",
     "text": [
      "/usr/local/lib/python3.4/dist-packages/sklearn/linear_model/coordinate_descent.py:491: ConvergenceWarning: Objective did not converge. You might want to increase the number of iterations. Fitting data with very small alpha may cause precision problems.\n",
      "  ConvergenceWarning)\n",
      "/usr/local/lib/python3.4/dist-packages/sklearn/linear_model/coordinate_descent.py:491: ConvergenceWarning: Objective did not converge. You might want to increase the number of iterations. Fitting data with very small alpha may cause precision problems.\n",
      "  ConvergenceWarning)\n"
     ]
    },
    {
     "name": "stdout",
     "output_type": "stream",
     "text": [
      "standard AUC 5-fold for max_rules_param 600: 0.786727759148469, mean complexity = 160.2\n",
      "simple   AUC 5-fold for max_rules_param 600: 0.7854957319858559, mean complexity = 79.0\n",
      "standard AUC 5-fold for max_rules_param 700: 0.7855902578546358, mean complexity = 177.8\n",
      "simple   AUC 5-fold for max_rules_param 700: 0.7817536296919888, mean complexity = 93.4\n"
     ]
    },
    {
     "name": "stderr",
     "output_type": "stream",
     "text": [
      "/usr/local/lib/python3.4/dist-packages/sklearn/linear_model/coordinate_descent.py:491: ConvergenceWarning: Objective did not converge. You might want to increase the number of iterations. Fitting data with very small alpha may cause precision problems.\n",
      "  ConvergenceWarning)\n"
     ]
    },
    {
     "name": "stdout",
     "output_type": "stream",
     "text": [
      "standard AUC 5-fold for max_rules_param 800: 0.7832558683964095, mean complexity = 160.4\n",
      "simple   AUC 5-fold for max_rules_param 800: 0.7833926794837656, mean complexity = 107.0\n",
      "standard AUC 5-fold for max_rules_param 900: 0.784626782943563, mean complexity = 166.2\n",
      "simple   AUC 5-fold for max_rules_param 900: 0.7825225958319919, mean complexity = 105.2\n"
     ]
    },
    {
     "name": "stderr",
     "output_type": "stream",
     "text": [
      "/usr/local/lib/python3.4/dist-packages/sklearn/linear_model/coordinate_descent.py:491: ConvergenceWarning: Objective did not converge. You might want to increase the number of iterations. Fitting data with very small alpha may cause precision problems.\n",
      "  ConvergenceWarning)\n",
      "/usr/local/lib/python3.4/dist-packages/sklearn/linear_model/coordinate_descent.py:491: ConvergenceWarning: Objective did not converge. You might want to increase the number of iterations. Fitting data with very small alpha may cause precision problems.\n",
      "  ConvergenceWarning)\n",
      "/usr/local/lib/python3.4/dist-packages/sklearn/linear_model/coordinate_descent.py:491: ConvergenceWarning: Objective did not converge. You might want to increase the number of iterations. Fitting data with very small alpha may cause precision problems.\n",
      "  ConvergenceWarning)\n"
     ]
    },
    {
     "name": "stdout",
     "output_type": "stream",
     "text": [
      "standard AUC 5-fold for max_rules_param 1000: 0.7872777713537518, mean complexity = 162.6\n",
      "simple   AUC 5-fold for max_rules_param 1000: 0.7831113365362183, mean complexity = 105.4\n"
     ]
    },
    {
     "name": "stderr",
     "output_type": "stream",
     "text": [
      "/usr/local/lib/python3.4/dist-packages/sklearn/linear_model/coordinate_descent.py:491: ConvergenceWarning: Objective did not converge. You might want to increase the number of iterations. Fitting data with very small alpha may cause precision problems.\n",
      "  ConvergenceWarning)\n",
      "/usr/local/lib/python3.4/dist-packages/sklearn/linear_model/coordinate_descent.py:491: ConvergenceWarning: Objective did not converge. You might want to increase the number of iterations. Fitting data with very small alpha may cause precision problems.\n",
      "  ConvergenceWarning)\n",
      "/usr/local/lib/python3.4/dist-packages/sklearn/linear_model/coordinate_descent.py:491: ConvergenceWarning: Objective did not converge. You might want to increase the number of iterations. Fitting data with very small alpha may cause precision problems.\n",
      "  ConvergenceWarning)\n"
     ]
    },
    {
     "name": "stdout",
     "output_type": "stream",
     "text": [
      "standard AUC 5-fold for max_rules_param 1100: 0.7864964136735274, mean complexity = 197.2\n",
      "simple   AUC 5-fold for max_rules_param 1100: 0.7862164703386378, mean complexity = 119.6\n"
     ]
    },
    {
     "name": "stderr",
     "output_type": "stream",
     "text": [
      "/usr/local/lib/python3.4/dist-packages/sklearn/linear_model/coordinate_descent.py:491: ConvergenceWarning: Objective did not converge. You might want to increase the number of iterations. Fitting data with very small alpha may cause precision problems.\n",
      "  ConvergenceWarning)\n",
      "/usr/local/lib/python3.4/dist-packages/sklearn/linear_model/coordinate_descent.py:491: ConvergenceWarning: Objective did not converge. You might want to increase the number of iterations. Fitting data with very small alpha may cause precision problems.\n",
      "  ConvergenceWarning)\n"
     ]
    },
    {
     "name": "stdout",
     "output_type": "stream",
     "text": [
      "standard AUC 5-fold for max_rules_param 1200: 0.7872433893958205, mean complexity = 182.4\n",
      "simple   AUC 5-fold for max_rules_param 1200: 0.7848858239240806, mean complexity = 107.6\n"
     ]
    },
    {
     "name": "stderr",
     "output_type": "stream",
     "text": [
      "/usr/local/lib/python3.4/dist-packages/sklearn/linear_model/coordinate_descent.py:491: ConvergenceWarning: Objective did not converge. You might want to increase the number of iterations. Fitting data with very small alpha may cause precision problems.\n",
      "  ConvergenceWarning)\n",
      "/usr/local/lib/python3.4/dist-packages/sklearn/linear_model/coordinate_descent.py:491: ConvergenceWarning: Objective did not converge. You might want to increase the number of iterations. Fitting data with very small alpha may cause precision problems.\n",
      "  ConvergenceWarning)\n",
      "/usr/local/lib/python3.4/dist-packages/sklearn/linear_model/coordinate_descent.py:491: ConvergenceWarning: Objective did not converge. You might want to increase the number of iterations. Fitting data with very small alpha may cause precision problems.\n",
      "  ConvergenceWarning)\n",
      "/usr/local/lib/python3.4/dist-packages/sklearn/linear_model/coordinate_descent.py:491: ConvergenceWarning: Objective did not converge. You might want to increase the number of iterations. Fitting data with very small alpha may cause precision problems.\n",
      "  ConvergenceWarning)\n",
      "/usr/local/lib/python3.4/dist-packages/sklearn/linear_model/coordinate_descent.py:491: ConvergenceWarning: Objective did not converge. You might want to increase the number of iterations. Fitting data with very small alpha may cause precision problems.\n",
      "  ConvergenceWarning)\n"
     ]
    },
    {
     "name": "stdout",
     "output_type": "stream",
     "text": [
      "standard AUC 5-fold for max_rules_param 1300: 0.7867559935145552, mean complexity = 205.8\n",
      "simple   AUC 5-fold for max_rules_param 1300: 0.7872065552253115, mean complexity = 106.0\n"
     ]
    },
    {
     "name": "stderr",
     "output_type": "stream",
     "text": [
      "/usr/local/lib/python3.4/dist-packages/sklearn/linear_model/coordinate_descent.py:491: ConvergenceWarning: Objective did not converge. You might want to increase the number of iterations. Fitting data with very small alpha may cause precision problems.\n",
      "  ConvergenceWarning)\n",
      "/usr/local/lib/python3.4/dist-packages/sklearn/linear_model/coordinate_descent.py:491: ConvergenceWarning: Objective did not converge. You might want to increase the number of iterations. Fitting data with very small alpha may cause precision problems.\n",
      "  ConvergenceWarning)\n",
      "/usr/local/lib/python3.4/dist-packages/sklearn/linear_model/coordinate_descent.py:491: ConvergenceWarning: Objective did not converge. You might want to increase the number of iterations. Fitting data with very small alpha may cause precision problems.\n",
      "  ConvergenceWarning)\n",
      "/usr/local/lib/python3.4/dist-packages/sklearn/linear_model/coordinate_descent.py:491: ConvergenceWarning: Objective did not converge. You might want to increase the number of iterations. Fitting data with very small alpha may cause precision problems.\n",
      "  ConvergenceWarning)\n"
     ]
    },
    {
     "name": "stdout",
     "output_type": "stream",
     "text": [
      "standard AUC 5-fold for max_rules_param 1400: 0.7868238868917783, mean complexity = 198.8\n",
      "simple   AUC 5-fold for max_rules_param 1400: 0.7881718549213854, mean complexity = 120.4\n"
     ]
    },
    {
     "name": "stderr",
     "output_type": "stream",
     "text": [
      "/usr/local/lib/python3.4/dist-packages/sklearn/linear_model/coordinate_descent.py:491: ConvergenceWarning: Objective did not converge. You might want to increase the number of iterations. Fitting data with very small alpha may cause precision problems.\n",
      "  ConvergenceWarning)\n",
      "/usr/local/lib/python3.4/dist-packages/sklearn/linear_model/coordinate_descent.py:491: ConvergenceWarning: Objective did not converge. You might want to increase the number of iterations. Fitting data with very small alpha may cause precision problems.\n",
      "  ConvergenceWarning)\n",
      "/usr/local/lib/python3.4/dist-packages/sklearn/linear_model/coordinate_descent.py:491: ConvergenceWarning: Objective did not converge. You might want to increase the number of iterations. Fitting data with very small alpha may cause precision problems.\n",
      "  ConvergenceWarning)\n",
      "/usr/local/lib/python3.4/dist-packages/sklearn/linear_model/coordinate_descent.py:491: ConvergenceWarning: Objective did not converge. You might want to increase the number of iterations. Fitting data with very small alpha may cause precision problems.\n",
      "  ConvergenceWarning)\n",
      "/usr/local/lib/python3.4/dist-packages/sklearn/linear_model/coordinate_descent.py:491: ConvergenceWarning: Objective did not converge. You might want to increase the number of iterations. Fitting data with very small alpha may cause precision problems.\n",
      "  ConvergenceWarning)\n",
      "/usr/local/lib/python3.4/dist-packages/sklearn/linear_model/coordinate_descent.py:491: ConvergenceWarning: Objective did not converge. You might want to increase the number of iterations. Fitting data with very small alpha may cause precision problems.\n",
      "  ConvergenceWarning)\n",
      "/usr/local/lib/python3.4/dist-packages/sklearn/linear_model/coordinate_descent.py:491: ConvergenceWarning: Objective did not converge. You might want to increase the number of iterations. Fitting data with very small alpha may cause precision problems.\n",
      "  ConvergenceWarning)\n"
     ]
    },
    {
     "name": "stdout",
     "output_type": "stream",
     "text": [
      "standard AUC 5-fold for max_rules_param 1500: 0.7878712985471494, mean complexity = 211.4\n",
      "simple   AUC 5-fold for max_rules_param 1500: 0.7870625484398353, mean complexity = 126.2\n"
     ]
    },
    {
     "name": "stderr",
     "output_type": "stream",
     "text": [
      "/usr/local/lib/python3.4/dist-packages/sklearn/linear_model/coordinate_descent.py:491: ConvergenceWarning: Objective did not converge. You might want to increase the number of iterations. Fitting data with very small alpha may cause precision problems.\n",
      "  ConvergenceWarning)\n",
      "/usr/local/lib/python3.4/dist-packages/sklearn/linear_model/coordinate_descent.py:491: ConvergenceWarning: Objective did not converge. You might want to increase the number of iterations. Fitting data with very small alpha may cause precision problems.\n",
      "  ConvergenceWarning)\n",
      "/usr/local/lib/python3.4/dist-packages/sklearn/linear_model/coordinate_descent.py:491: ConvergenceWarning: Objective did not converge. You might want to increase the number of iterations. Fitting data with very small alpha may cause precision problems.\n",
      "  ConvergenceWarning)\n",
      "/usr/local/lib/python3.4/dist-packages/sklearn/linear_model/coordinate_descent.py:491: ConvergenceWarning: Objective did not converge. You might want to increase the number of iterations. Fitting data with very small alpha may cause precision problems.\n",
      "  ConvergenceWarning)\n",
      "/usr/local/lib/python3.4/dist-packages/sklearn/linear_model/coordinate_descent.py:491: ConvergenceWarning: Objective did not converge. You might want to increase the number of iterations. Fitting data with very small alpha may cause precision problems.\n",
      "  ConvergenceWarning)\n",
      "/usr/local/lib/python3.4/dist-packages/sklearn/linear_model/coordinate_descent.py:491: ConvergenceWarning: Objective did not converge. You might want to increase the number of iterations. Fitting data with very small alpha may cause precision problems.\n",
      "  ConvergenceWarning)\n",
      "/usr/local/lib/python3.4/dist-packages/sklearn/linear_model/coordinate_descent.py:491: ConvergenceWarning: Objective did not converge. You might want to increase the number of iterations. Fitting data with very small alpha may cause precision problems.\n",
      "  ConvergenceWarning)\n",
      "/usr/local/lib/python3.4/dist-packages/sklearn/linear_model/coordinate_descent.py:491: ConvergenceWarning: Objective did not converge. You might want to increase the number of iterations. Fitting data with very small alpha may cause precision problems.\n",
      "  ConvergenceWarning)\n"
     ]
    },
    {
     "name": "stdout",
     "output_type": "stream",
     "text": [
      "standard AUC 5-fold for max_rules_param 1700: 0.788565038924981, mean complexity = 203.6\n",
      "simple   AUC 5-fold for max_rules_param 1700: 0.7893195484419705, mean complexity = 115.6\n"
     ]
    },
    {
     "name": "stderr",
     "output_type": "stream",
     "text": [
      "/usr/local/lib/python3.4/dist-packages/sklearn/linear_model/coordinate_descent.py:491: ConvergenceWarning: Objective did not converge. You might want to increase the number of iterations. Fitting data with very small alpha may cause precision problems.\n",
      "  ConvergenceWarning)\n",
      "/usr/local/lib/python3.4/dist-packages/sklearn/linear_model/coordinate_descent.py:491: ConvergenceWarning: Objective did not converge. You might want to increase the number of iterations. Fitting data with very small alpha may cause precision problems.\n",
      "  ConvergenceWarning)\n",
      "/usr/local/lib/python3.4/dist-packages/sklearn/linear_model/coordinate_descent.py:491: ConvergenceWarning: Objective did not converge. You might want to increase the number of iterations. Fitting data with very small alpha may cause precision problems.\n",
      "  ConvergenceWarning)\n",
      "/usr/local/lib/python3.4/dist-packages/sklearn/linear_model/coordinate_descent.py:491: ConvergenceWarning: Objective did not converge. You might want to increase the number of iterations. Fitting data with very small alpha may cause precision problems.\n",
      "  ConvergenceWarning)\n",
      "/usr/local/lib/python3.4/dist-packages/sklearn/linear_model/coordinate_descent.py:491: ConvergenceWarning: Objective did not converge. You might want to increase the number of iterations. Fitting data with very small alpha may cause precision problems.\n",
      "  ConvergenceWarning)\n",
      "/usr/local/lib/python3.4/dist-packages/sklearn/linear_model/coordinate_descent.py:491: ConvergenceWarning: Objective did not converge. You might want to increase the number of iterations. Fitting data with very small alpha may cause precision problems.\n",
      "  ConvergenceWarning)\n",
      "/usr/local/lib/python3.4/dist-packages/sklearn/linear_model/coordinate_descent.py:491: ConvergenceWarning: Objective did not converge. You might want to increase the number of iterations. Fitting data with very small alpha may cause precision problems.\n",
      "  ConvergenceWarning)\n"
     ]
    },
    {
     "name": "stdout",
     "output_type": "stream",
     "text": [
      "standard AUC 5-fold for max_rules_param 1900: 0.7874255779632029, mean complexity = 226.4\n",
      "simple   AUC 5-fold for max_rules_param 1900: 0.7872764261008525, mean complexity = 119.2\n"
     ]
    },
    {
     "name": "stderr",
     "output_type": "stream",
     "text": [
      "/usr/local/lib/python3.4/dist-packages/sklearn/linear_model/coordinate_descent.py:491: ConvergenceWarning: Objective did not converge. You might want to increase the number of iterations. Fitting data with very small alpha may cause precision problems.\n",
      "  ConvergenceWarning)\n",
      "/usr/local/lib/python3.4/dist-packages/sklearn/linear_model/coordinate_descent.py:491: ConvergenceWarning: Objective did not converge. You might want to increase the number of iterations. Fitting data with very small alpha may cause precision problems.\n",
      "  ConvergenceWarning)\n",
      "/usr/local/lib/python3.4/dist-packages/sklearn/linear_model/coordinate_descent.py:491: ConvergenceWarning: Objective did not converge. You might want to increase the number of iterations. Fitting data with very small alpha may cause precision problems.\n",
      "  ConvergenceWarning)\n",
      "/usr/local/lib/python3.4/dist-packages/sklearn/linear_model/coordinate_descent.py:491: ConvergenceWarning: Objective did not converge. You might want to increase the number of iterations. Fitting data with very small alpha may cause precision problems.\n",
      "  ConvergenceWarning)\n",
      "/usr/local/lib/python3.4/dist-packages/sklearn/linear_model/coordinate_descent.py:491: ConvergenceWarning: Objective did not converge. You might want to increase the number of iterations. Fitting data with very small alpha may cause precision problems.\n",
      "  ConvergenceWarning)\n",
      "/usr/local/lib/python3.4/dist-packages/sklearn/linear_model/coordinate_descent.py:491: ConvergenceWarning: Objective did not converge. You might want to increase the number of iterations. Fitting data with very small alpha may cause precision problems.\n",
      "  ConvergenceWarning)\n",
      "/usr/local/lib/python3.4/dist-packages/sklearn/linear_model/coordinate_descent.py:491: ConvergenceWarning: Objective did not converge. You might want to increase the number of iterations. Fitting data with very small alpha may cause precision problems.\n",
      "  ConvergenceWarning)\n"
     ]
    },
    {
     "name": "stdout",
     "output_type": "stream",
     "text": [
      "standard AUC 5-fold for max_rules_param 2100: 0.7881209444595569, mean complexity = 198.4\n",
      "simple   AUC 5-fold for max_rules_param 2100: 0.7913534769520802, mean complexity = 127.8\n"
     ]
    },
    {
     "name": "stderr",
     "output_type": "stream",
     "text": [
      "/usr/local/lib/python3.4/dist-packages/sklearn/linear_model/coordinate_descent.py:491: ConvergenceWarning: Objective did not converge. You might want to increase the number of iterations. Fitting data with very small alpha may cause precision problems.\n",
      "  ConvergenceWarning)\n",
      "/usr/local/lib/python3.4/dist-packages/sklearn/linear_model/coordinate_descent.py:491: ConvergenceWarning: Objective did not converge. You might want to increase the number of iterations. Fitting data with very small alpha may cause precision problems.\n",
      "  ConvergenceWarning)\n",
      "/usr/local/lib/python3.4/dist-packages/sklearn/linear_model/coordinate_descent.py:491: ConvergenceWarning: Objective did not converge. You might want to increase the number of iterations. Fitting data with very small alpha may cause precision problems.\n",
      "  ConvergenceWarning)\n",
      "/usr/local/lib/python3.4/dist-packages/sklearn/linear_model/coordinate_descent.py:491: ConvergenceWarning: Objective did not converge. You might want to increase the number of iterations. Fitting data with very small alpha may cause precision problems.\n",
      "  ConvergenceWarning)\n",
      "/usr/local/lib/python3.4/dist-packages/sklearn/linear_model/coordinate_descent.py:491: ConvergenceWarning: Objective did not converge. You might want to increase the number of iterations. Fitting data with very small alpha may cause precision problems.\n",
      "  ConvergenceWarning)\n",
      "/usr/local/lib/python3.4/dist-packages/sklearn/linear_model/coordinate_descent.py:491: ConvergenceWarning: Objective did not converge. You might want to increase the number of iterations. Fitting data with very small alpha may cause precision problems.\n",
      "  ConvergenceWarning)\n",
      "/usr/local/lib/python3.4/dist-packages/sklearn/linear_model/coordinate_descent.py:491: ConvergenceWarning: Objective did not converge. You might want to increase the number of iterations. Fitting data with very small alpha may cause precision problems.\n",
      "  ConvergenceWarning)\n",
      "/usr/local/lib/python3.4/dist-packages/sklearn/linear_model/coordinate_descent.py:491: ConvergenceWarning: Objective did not converge. You might want to increase the number of iterations. Fitting data with very small alpha may cause precision problems.\n",
      "  ConvergenceWarning)\n"
     ]
    },
    {
     "name": "stdout",
     "output_type": "stream",
     "text": [
      "standard AUC 5-fold for max_rules_param 2300: 0.788695294236821, mean complexity = 212.4\n",
      "simple   AUC 5-fold for max_rules_param 2300: 0.7884079899039678, mean complexity = 132.6\n"
     ]
    },
    {
     "name": "stderr",
     "output_type": "stream",
     "text": [
      "/usr/local/lib/python3.4/dist-packages/sklearn/linear_model/coordinate_descent.py:491: ConvergenceWarning: Objective did not converge. You might want to increase the number of iterations. Fitting data with very small alpha may cause precision problems.\n",
      "  ConvergenceWarning)\n",
      "/usr/local/lib/python3.4/dist-packages/sklearn/linear_model/coordinate_descent.py:491: ConvergenceWarning: Objective did not converge. You might want to increase the number of iterations. Fitting data with very small alpha may cause precision problems.\n",
      "  ConvergenceWarning)\n",
      "/usr/local/lib/python3.4/dist-packages/sklearn/linear_model/coordinate_descent.py:491: ConvergenceWarning: Objective did not converge. You might want to increase the number of iterations. Fitting data with very small alpha may cause precision problems.\n",
      "  ConvergenceWarning)\n",
      "/usr/local/lib/python3.4/dist-packages/sklearn/linear_model/coordinate_descent.py:491: ConvergenceWarning: Objective did not converge. You might want to increase the number of iterations. Fitting data with very small alpha may cause precision problems.\n",
      "  ConvergenceWarning)\n",
      "/usr/local/lib/python3.4/dist-packages/sklearn/linear_model/coordinate_descent.py:491: ConvergenceWarning: Objective did not converge. You might want to increase the number of iterations. Fitting data with very small alpha may cause precision problems.\n",
      "  ConvergenceWarning)\n",
      "/usr/local/lib/python3.4/dist-packages/sklearn/linear_model/coordinate_descent.py:491: ConvergenceWarning: Objective did not converge. You might want to increase the number of iterations. Fitting data with very small alpha may cause precision problems.\n",
      "  ConvergenceWarning)\n",
      "/usr/local/lib/python3.4/dist-packages/sklearn/linear_model/coordinate_descent.py:491: ConvergenceWarning: Objective did not converge. You might want to increase the number of iterations. Fitting data with very small alpha may cause precision problems.\n",
      "  ConvergenceWarning)\n",
      "/usr/local/lib/python3.4/dist-packages/sklearn/linear_model/coordinate_descent.py:491: ConvergenceWarning: Objective did not converge. You might want to increase the number of iterations. Fitting data with very small alpha may cause precision problems.\n",
      "  ConvergenceWarning)\n",
      "/usr/local/lib/python3.4/dist-packages/sklearn/linear_model/coordinate_descent.py:491: ConvergenceWarning: Objective did not converge. You might want to increase the number of iterations. Fitting data with very small alpha may cause precision problems.\n",
      "  ConvergenceWarning)\n"
     ]
    },
    {
     "name": "stdout",
     "output_type": "stream",
     "text": [
      "standard AUC 5-fold for max_rules_param 2500: 0.7877229643351472, mean complexity = 230.8\n",
      "simple   AUC 5-fold for max_rules_param 2500: 0.7888997879890818, mean complexity = 122.0\n",
      "Evaluation time: 2:55:30.563600\n"
     ]
    }
   ],
   "source": [
    "# The RuleFit implementation sends warning about convergence, which comes from Lasso's coordinate\n",
    "# descent; but we observe no influence on the quality of the model, as seen in the cross-validation scores.\n",
    "\n",
    "\n",
    "import numpy as np\n",
    "from sklearn import metrics\n",
    "from sklearn.model_selection import KFold\n",
    "from rulefitcustom import RuleFitCustom\n",
    "import datetime\n",
    "\n",
    "\n",
    "start = datetime.datetime.now()\n",
    "\n",
    "kf = KFold(n_splits=folds)\n",
    "kf.get_n_splits(X)\n",
    "\n",
    "auc_complexity=np.empty([0, 2])\n",
    "auc_complexity_simple_rules=np.empty([0, 2])\n",
    "\n",
    "for max_rules_param in max_rules_params:\n",
    "    \n",
    "    auc_sum = 0\n",
    "    complexity_sum = 0\n",
    "    auc_sum_simple_rules = 0\n",
    "    complexity_sum_simple_rules = 0\n",
    "\n",
    "    for train_index, test_index in kf.split(X):\n",
    "        X_train, X_test = X[train_index], X[test_index]\n",
    "        y_train, y_test = y[train_index], y[test_index]\n",
    "\n",
    "        rf =              RuleFitCustom(max_rules=max_rules_param, model_type=model_type_param)\n",
    "        rf_simple_rules = RuleFitCustom(max_rules=max_rules_param, model_type=model_type_param, simple_rules=True)\n",
    "        \n",
    "        rf.fit(X_train, y_train, feature_names=features)\n",
    "        rf_simple_rules.fit(X_train, y_train, feature_names=features)\n",
    "\n",
    "        y_predictions_test = rf.predict(X_test)\n",
    "        fpr, tpr, _ = metrics.roc_curve(y_test, y_predictions_test)\n",
    "        auc_sum += metrics.auc(fpr, tpr)\n",
    "        complexity_sum += rf.rules_complexity()\n",
    "\n",
    "        y_predictions_test_simple_rules = rf_simple_rules.predict(X_test)\n",
    "        fpr_simple_rules, tpr_simple_rules, _ = metrics.roc_curve(y_test, y_predictions_test_simple_rules)\n",
    "        auc_sum_simple_rules += metrics.auc(fpr_simple_rules, tpr_simple_rules)\n",
    "        complexity_sum_simple_rules += rf_simple_rules.rules_complexity()\n",
    "\n",
    "    print('standard AUC {}-fold for max_rules_param {}: {}, mean complexity = {}'.format(folds, max_rules_param, auc_sum/folds, complexity_sum/folds))\n",
    "    print('simple   AUC {}-fold for max_rules_param {}: {}, mean complexity = {}'.format(folds, max_rules_param, auc_sum_simple_rules/folds, complexity_sum_simple_rules/folds))\n",
    "    auc_complexity = np.vstack([auc_complexity, [auc_sum/folds, complexity_sum/folds]])\n",
    "    auc_complexity_simple_rules = np.vstack([auc_complexity_simple_rules, [auc_sum_simple_rules/folds, complexity_sum_simple_rules/folds]])\n",
    "\n",
    "end =  datetime.datetime.now()\n",
    "\n",
    "print('Evaluation time: {}'.format(end-start))\n"
   ]
  },
  {
   "cell_type": "code",
   "execution_count": 5,
   "metadata": {
    "collapsed": false,
    "scrolled": true
   },
   "outputs": [
    {
     "data": {
      "text/plain": [
       "array([[  0.76954911,  68.2       ],\n",
       "       [  0.77283471,  65.4       ],\n",
       "       [  0.77189268, 103.        ],\n",
       "       [  0.77426307,  89.6       ],\n",
       "       [  0.77707966,  97.        ],\n",
       "       [  0.78178755, 115.4       ],\n",
       "       [  0.78385019, 123.6       ],\n",
       "       [  0.78330864, 152.6       ],\n",
       "       [  0.78542638, 161.8       ],\n",
       "       [  0.78672776, 160.2       ],\n",
       "       [  0.78559026, 177.8       ],\n",
       "       [  0.78325587, 160.4       ],\n",
       "       [  0.78462678, 166.2       ],\n",
       "       [  0.78727777, 162.6       ],\n",
       "       [  0.78649641, 197.2       ],\n",
       "       [  0.78724339, 182.4       ],\n",
       "       [  0.78675599, 205.8       ],\n",
       "       [  0.78682389, 198.8       ],\n",
       "       [  0.7878713 , 211.4       ],\n",
       "       [  0.78856504, 203.6       ],\n",
       "       [  0.78742558, 226.4       ],\n",
       "       [  0.78812094, 198.4       ],\n",
       "       [  0.78869529, 212.4       ],\n",
       "       [  0.78772296, 230.8       ]])"
      ]
     },
     "execution_count": 5,
     "metadata": {},
     "output_type": "execute_result"
    }
   ],
   "source": [
    "auc_complexity"
   ]
  },
  {
   "cell_type": "code",
   "execution_count": 6,
   "metadata": {
    "collapsed": false,
    "scrolled": true
   },
   "outputs": [
    {
     "data": {
      "text/plain": [
       "array([[  0.74901364,  55.2       ],\n",
       "       [  0.75893559,  59.8       ],\n",
       "       [  0.76878729,  91.8       ],\n",
       "       [  0.77008595,  73.6       ],\n",
       "       [  0.77742745,  84.8       ],\n",
       "       [  0.77905629,  76.2       ],\n",
       "       [  0.77275126,  77.8       ],\n",
       "       [  0.77986581,  88.6       ],\n",
       "       [  0.78054262,  83.        ],\n",
       "       [  0.78549573,  79.        ],\n",
       "       [  0.78175363,  93.4       ],\n",
       "       [  0.78339268, 107.        ],\n",
       "       [  0.7825226 , 105.2       ],\n",
       "       [  0.78311134, 105.4       ],\n",
       "       [  0.78621647, 119.6       ],\n",
       "       [  0.78488582, 107.6       ],\n",
       "       [  0.78720656, 106.        ],\n",
       "       [  0.78817185, 120.4       ],\n",
       "       [  0.78706255, 126.2       ],\n",
       "       [  0.78931955, 115.6       ],\n",
       "       [  0.78727643, 119.2       ],\n",
       "       [  0.79135348, 127.8       ],\n",
       "       [  0.78840799, 132.6       ],\n",
       "       [  0.78889979, 122.        ]])"
      ]
     },
     "execution_count": 6,
     "metadata": {},
     "output_type": "execute_result"
    }
   ],
   "source": [
    "auc_complexity_simple_rules"
   ]
  },
  {
   "cell_type": "code",
   "execution_count": 11,
   "metadata": {
    "collapsed": false
   },
   "outputs": [
    {
     "name": "stdout",
     "output_type": "stream",
     "text": [
      "filtered point: [ 0.74901364 55.2       ]\n",
      "filtered point: [ 0.75893559 59.8       ]\n"
     ]
    }
   ],
   "source": [
    "bins = [0.77, 0.78, 0.79]\n",
    "\n",
    "# This function will filter a value if the bin was not present\n",
    "def bin_auc_complexity(arr, bins):\n",
    "    res = [[] for i in range(len(bins))]\n",
    "    for point in arr:\n",
    "        bin = round(point[0], 2)\n",
    "        if bin in bins:\n",
    "            res[bins.index(bin)].append(point[1])\n",
    "        else:\n",
    "            print('filtered point: {}'.format(point))\n",
    "    return res\n",
    "\n",
    "data_auc_complexity = bin_auc_complexity(auc_complexity, bins)\n",
    "data_auc_complexity_simple_rules= bin_auc_complexity(auc_complexity_simple_rules, bins)\n"
   ]
  },
  {
   "cell_type": "code",
   "execution_count": 17,
   "metadata": {
    "collapsed": false
   },
   "outputs": [
    {
     "data": {
      "text/plain": [
       "<Figure size 432x288 with 0 Axes>"
      ]
     },
     "metadata": {},
     "output_type": "display_data"
    },
    {
     "data": {
      "image/png": "[encoded data removed]",
      "text/plain": [
       "<Figure size 432x288 with 1 Axes>"
      ]
     },
     "metadata": {},
     "output_type": "display_data"
    }
   ],
   "source": [
    "import matplotlib.pyplot as plt\n",
    "import numpy as np\n",
    "\n",
    "def set_box_color(bp, color):\n",
    "    plt.setp(bp['boxes'], color=color)\n",
    "    plt.setp(bp['whiskers'], color=color)\n",
    "    plt.setp(bp['caps'], color=color)\n",
    "    plt.setp(bp['medians'], color=color)\n",
    "\n",
    "plt.figure()\n",
    "\n",
    "bpl = plt.boxplot(\n",
    "    data_auc_complexity, \n",
    "    positions=np.array(range(len(data_auc_complexity)))*2.0-0.4, \n",
    "    sym='', widths=0.6)\n",
    "bpr = plt.boxplot(\n",
    "    data_auc_complexity_simple_rules, \n",
    "    positions=np.array(range(len(data_auc_complexity_simple_rules)))*2.0+0.4, \n",
    "    sym='', widths=0.6)\n",
    "set_box_color(bpl, '#f1a340')\n",
    "set_box_color(bpr, '#998ec3')\n",
    "\n",
    "plt.plot([], c='#f1a340', label='Standard RuleFit')\n",
    "plt.plot([], c='#998ec3', label='Simple RuleFit (ours)')\n",
    "plt.legend()\n",
    "\n",
    "plt.title('AUC-Complexity tradeoff (lower is better)')\n",
    "plt.xticks(range(0, len(bins) * 2, 2), bins)\n",
    "plt.xlim(-2, len(bins)*2)\n",
    "plt.xlabel('AUC bins')\n",
    "plt.ylabel('Complexity')\n",
    "plt.show()"
   ]
  },
  {
   "cell_type": "code",
   "execution_count": 13,
   "metadata": {
    "collapsed": false
   },
   "outputs": [
    {
     "data": {
      "image/png": "[encoded data removed]",
      "text/plain": [
       "<Figure size 432x288 with 1 Axes>"
      ]
     },
     "metadata": {},
     "output_type": "display_data"
    }
   ],
   "source": [
    "import matplotlib.pyplot as plt\n",
    "\n",
    "plt.plot(auc_complexity[:,0], auc_complexity[:,1])\n",
    "plt.plot(auc_complexity_simple_rules[:,0], auc_complexity_simple_rules[:,1])\n",
    "plt.show()"
   ]
  }
 ],
 "metadata": {
  "kernelspec": {
   "display_name": "Python 3",
   "language": "python",
   "name": "python3"
  },
  "language_info": {
   "codemirror_mode": {
    "name": "ipython",
    "version": 3
   },
   "file_extension": ".py",
   "mimetype": "text/x-python",
   "name": "python",
   "nbconvert_exporter": "python",
   "pygments_lexer": "ipython3",
   "version": "3.4.3"
  }
 },
 "nbformat": 4,
 "nbformat_minor": 2
}
